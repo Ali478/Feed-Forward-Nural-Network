{
  "nbformat": 4,
  "nbformat_minor": 0,
  "metadata": {
    "colab": {
      "name": "Assigment 3.ipynb",
      "provenance": [],
      "authorship_tag": "ABX9TyM2NwOOZ0T4nVo8QHD7vv33",
      "include_colab_link": true
    },
    "kernelspec": {
      "name": "python3",
      "display_name": "Python 3"
    },
    "language_info": {
      "name": "python"
    }
  },
  "cells": [
    {
      "cell_type": "markdown",
      "metadata": {
        "id": "view-in-github",
        "colab_type": "text"
      },
      "source": [
        "<a href=\"https://colab.research.google.com/github/Ali478/Feed-Forward-Nural-Network/blob/main/Feed%20forward%20ANN.ipynb\" target=\"_parent\"><img src=\"https://colab.research.google.com/assets/colab-badge.svg\" alt=\"Open In Colab\"/></a>"
      ]
    },
    {
      "cell_type": "markdown",
      "source": [
        "# **SUBMITTED BY : ALI MURTAZA (L21-7290) & HAMZA MUSTAFA(L21-7276)**\n",
        "\n",
        "---\n",
        "\n"
      ],
      "metadata": {
        "id": "ukPpW_BlaEXl"
      }
    },
    {
      "cell_type": "markdown",
      "source": [
        "**LIBRARIES**\n",
        "\n",
        "---\n",
        "\n"
      ],
      "metadata": {
        "id": "ZiKMX_o8aZMU"
      }
    },
    {
      "cell_type": "code",
      "execution_count": 1,
      "metadata": {
        "id": "fTCulqbsaCnd"
      },
      "outputs": [],
      "source": [
        "import numpy as np\n",
        "from math import cos\n",
        "import numpy as np\n",
        "import pandas as pd\n",
        "import random\n",
        "import math"
      ]
    },
    {
      "cell_type": "markdown",
      "source": [
        "**FUNCTION USED**\n",
        "\n",
        "---\n",
        "\n"
      ],
      "metadata": {
        "id": "jHDnJB0IagmU"
      }
    },
    {
      "cell_type": "markdown",
      "source": [
        "\n",
        "\n",
        "```\n",
        " MEAN SQUARE ERROR FUNCTION\n",
        "```\n",
        "\n"
      ],
      "metadata": {
        "id": "UM7AmvMSbc6z"
      }
    },
    {
      "cell_type": "code",
      "source": [
        "def mean_squared_error(sum_of_errors, total_samples):\n",
        "    return sum_of_errors / total_samples \n"
      ],
      "metadata": {
        "id": "2OXhkXNrakxb"
      },
      "execution_count": 2,
      "outputs": []
    },
    {
      "cell_type": "markdown",
      "source": [
        "\n",
        "\n",
        "```\n",
        "COST CALCULATION FUNCTION\n",
        "```\n",
        "\n"
      ],
      "metadata": {
        "id": "FZ8XKPiab-Ya"
      }
    },
    {
      "cell_type": "code",
      "source": [
        "def calculate_cost(y, y_hat):\n",
        "    return (y - y_hat) ** 2\n"
      ],
      "metadata": {
        "id": "ubFwCFDLat-T"
      },
      "execution_count": 3,
      "outputs": []
    },
    {
      "cell_type": "markdown",
      "source": [
        "\n",
        "\n",
        "```\n",
        "SIGMOID FUNCTION\n",
        "```\n",
        "\n"
      ],
      "metadata": {
        "id": "rn683WTMcGZD"
      }
    },
    {
      "cell_type": "code",
      "source": [
        "def sigmoid(x):\n",
        "    z = np.exp(-x)\n",
        "    sig = 1 / (1 + z)\n",
        "    return sig"
      ],
      "metadata": {
        "id": "_5AzCIFDawa7"
      },
      "execution_count": 4,
      "outputs": []
    },
    {
      "cell_type": "markdown",
      "source": [
        "\n",
        "\n",
        "```\n",
        "READING DATASET FUNCTION\n",
        "```\n",
        "\n"
      ],
      "metadata": {
        "id": "J4WXru6IcKwB"
      }
    },
    {
      "cell_type": "code",
      "source": [
        "def read_dataset(dataset_choice):\n",
        "  from google.colab import drive\n",
        "  drive.mount('/content/drive')\n",
        "  datasets = [r\"/content/drive/MyDrive/mnist_dataset.csv\", r\"/content/drive/MyDrive/modified_iris_dataset.csv\", r\"/content/drive/MyDrive/marketing_campaign.csv\"]\n",
        "\n",
        "  if dataset_choice == 1:\n",
        "            dataset = pd.read_csv(datasets[0], header = None, delimiter = \",\")\n",
        "            dataset = dataset.to_numpy()\n",
        "            total_samples, total_features = dataset.shape\n",
        "            total_features -= 1\n",
        "            total_classes = 10\n",
        "  elif dataset_choice == 2:\n",
        "            dataset = pd.read_csv(datasets[1], header = None, delimiter = \",\")\n",
        "            dataset = dataset.to_numpy()\n",
        "            total_samples, total_features = dataset.shape\n",
        "            total_features -= 1\n",
        "            total_classes = 3\n",
        "  elif dataset_choice == 3:\n",
        "            dataset = pd.read_csv(datasets[1], header = None, delimiter = \",\")\n",
        "            dataset = dataset.to_numpy()\n",
        "            total_samples, total_features = dataset.shape\n",
        "            total_features -= 1\n",
        "            total_classes = 2\n",
        "  else :\n",
        "            assert(\"Invalid Dataset Choice\")\n",
        "\n",
        "  return (dataset, total_samples, total_features, total_classes)"
      ],
      "metadata": {
        "id": "EoL2xOhMaz8j"
      },
      "execution_count": 5,
      "outputs": []
    },
    {
      "cell_type": "markdown",
      "source": [
        "\n",
        "\n",
        "```\n",
        "PROCESSING DATASET FUNCTION\n",
        "```\n",
        "\n"
      ],
      "metadata": {
        "id": "q8Kv0SXAcUg6"
      }
    },
    {
      "cell_type": "code",
      "source": [
        "def process_dataset(dataset, total_features):\n",
        "    samples_features = dataset[:, 0 : total_features]\n",
        "    samples_classes = dataset[:, total_features :]\n",
        "    return (samples_features, samples_classes)"
      ],
      "metadata": {
        "id": "CTkggErVa31T"
      },
      "execution_count": 6,
      "outputs": []
    },
    {
      "cell_type": "markdown",
      "source": [
        "\n",
        "\n",
        "```\n",
        "RANDOM WEIGHTS VECTOR FUNCTION\n",
        "```\n",
        "\n"
      ],
      "metadata": {
        "id": "-CAJuDn1cawp"
      }
    },
    {
      "cell_type": "code",
      "source": [
        "def random_weights_vector(rows, cols):\n",
        "    random_weights = []\n",
        "    for _ in range(rows):\n",
        "        temp = []\n",
        "        for _ in range(cols):\n",
        "            temp.append(round(random.uniform(-0.5, 0.5), 1))\n",
        "        \n",
        "        random_weights.append(temp)\n",
        "\n",
        "    return random_weights"
      ],
      "metadata": {
        "id": "1900hfgka7f7"
      },
      "execution_count": 7,
      "outputs": []
    },
    {
      "cell_type": "markdown",
      "source": [
        "\n",
        "\n",
        "```\n",
        "RANDOM BAISED VECTOR FUNCTION\n",
        "```\n",
        "\n"
      ],
      "metadata": {
        "id": "Cx87he6rcl4x"
      }
    },
    {
      "cell_type": "code",
      "source": [
        "def random_biases_vector(rows, cols):\n",
        "    random_biases = []\n",
        "    for _ in range(rows):\n",
        "        temp = []\n",
        "        for _ in range(cols):\n",
        "            temp.append(round(random.uniform(-0.5, 0.5), 1))\n",
        "        \n",
        "        random_biases.append(temp)\n",
        "\n",
        "    return random_biases"
      ],
      "metadata": {
        "id": "eADwUEnWa-nb"
      },
      "execution_count": 8,
      "outputs": []
    },
    {
      "cell_type": "markdown",
      "source": [
        "\n",
        "\n",
        "```\n",
        "CALCULATE WEIGHTED SUM FUNCTION\n",
        "```\n",
        "\n"
      ],
      "metadata": {
        "id": "Mjqjay9Fcruo"
      }
    },
    {
      "cell_type": "code",
      "source": [
        "def calculate_weighted_sum(weights_vector, input_vector):\n",
        "    weighted_sum = np.dot(weights_vector, input_vector)\n",
        "    return weighted_sum\n"
      ],
      "metadata": {
        "id": "8EAyUnMGbBYb"
      },
      "execution_count": 9,
      "outputs": []
    },
    {
      "cell_type": "markdown",
      "source": [
        "\n",
        "\n",
        "```\n",
        "ADD BAISES FUNCTION\n",
        "```\n",
        "\n"
      ],
      "metadata": {
        "id": "3xCAHlRkczZI"
      }
    },
    {
      "cell_type": "code",
      "source": [
        "def add_biases(weighted_sum, biases_vector):\n",
        "    return np.add(weighted_sum, biases_vector)"
      ],
      "metadata": {
        "id": "2dLJQCeabDY7"
      },
      "execution_count": 10,
      "outputs": []
    },
    {
      "cell_type": "markdown",
      "source": [
        "**MAIN PROGRAM**\n",
        "\n",
        "\n",
        "---\n",
        "\n",
        "\n",
        "\n"
      ],
      "metadata": {
        "id": "uR-XhumjbI3K"
      }
    },
    {
      "cell_type": "code",
      "source": [
        "def main():\n",
        "    # Number of perceptrons in hidden layer.\n",
        "    PERCEPTRONS = 16\n",
        "\n",
        "    dataset_choice = int(input(\"Dataset to use? [1] for MNIST and [2] for Iris Flower Aand [3] for Marketing Campaign > \"))\n",
        "    dataset, total_samples, total_features, total_classes = read_dataset(dataset_choice)\n",
        "    samples_features_values, samples_classes = process_dataset(dataset, total_features)\n",
        "\n",
        "    # Randomly iinitializing weights vector and biases vector for level A and B\n",
        "    weights_vector_A = random_weights_vector(PERCEPTRONS, total_features)\n",
        "    weights_vector_B = random_weights_vector(total_classes, PERCEPTRONS)\n",
        "    biases_vector_A = random_biases_vector(PERCEPTRONS, 1)\n",
        "    biases_vector_B = random_biases_vector(total_classes, 1)\n",
        "\n",
        "    # Printing dimensions for each level's weights and biases vectors.\n",
        "    print(f\"\\nDimensions of Weights Vector for Level A: {(np.array(weights_vector_A)).shape}\")\n",
        "    print(f\"Dimensions of Weights Vector for Level B: {(np.array(weights_vector_B)).shape}\")\n",
        "    print(f\"Dimensions of Biases Vector for Level A: {(np.array(biases_vector_A)).shape}\")\n",
        "    print(f\"Dimensions of Biases Vector for Level B: {(np.array(biases_vector_B)).shape}\\n\")\n",
        "\n",
        "    current_sample = 0\n",
        "    sum_of_errors = 0\n",
        "\n",
        "    # Feeding each sample to neural network and calculating cost\n",
        "    for sample_values in samples_features_values:\n",
        "\n",
        "        # Calculations for Level A\n",
        "        weighted_sums_A = calculate_weighted_sum(weights_vector_A, sample_values)\n",
        "        weighted_sums_A = weighted_sums_A.reshape(PERCEPTRONS, 1)\n",
        "        weighted_sums_A = add_biases(weighted_sums_A, biases_vector_A)\n",
        "    \n",
        "        # Applying Sigmoid Activation Function to weighted sums of each perceptron in hidden layer\n",
        "        hidden_layer_output = []\n",
        "        for perceptron_output in weighted_sums_A:\n",
        "            sigmoidd = sigmoid(perceptron_output[0])\n",
        "            hidden_layer_output.append(sigmoidd)\n",
        "\n",
        "        # Converting outputs of hidden layer into 16*1 array\n",
        "        hidden_layer_output = np.array(hidden_layer_output)\n",
        "        hidden_layer_output = hidden_layer_output.reshape(PERCEPTRONS, 1)\n",
        "\n",
        "        # Calculations for Level B\n",
        "        weighted_sums_B = calculate_weighted_sum(weights_vector_B, hidden_layer_output)\n",
        "        weighted_sums_B = weighted_sums_B.reshape(total_classes, 1)\n",
        "        weighted_sums_B = add_biases(weighted_sums_B, biases_vector_B)\n",
        "    \n",
        "        # Applying Sigmoid activation function to weighted sums of each perceptron in output layer\n",
        "        output_layer_results = []\n",
        "        for perceptron_output in weighted_sums_B:\n",
        "            sigmoidd = sigmoid(perceptron_output[0])\n",
        "            output_layer_results.append(sigmoidd)\n",
        "\n",
        "        # Converting outputs of output layer into total_classes*1 array\n",
        "        output_layer_results = np.array(output_layer_results)\n",
        "    \n",
        "        # Calculating y_hat by finding the output perceptron with maximum value and adding 1, because array indexes start at 0 \n",
        "        max_value = np.max(output_layer_results)\n",
        "        y_hat = list(output_layer_results).index(max_value)\n",
        "        y_hat += 1\n",
        "\n",
        "        y = samples_classes[current_sample]\n",
        "        current_sample += 1\n",
        "\n",
        "        # Calculating error of single sample\n",
        "        sum_of_errors += calculate_cost(y, y_hat)\n",
        "\n",
        "    final_cost = mean_squared_error(sum_of_errors, total_samples)\n",
        "    print(f\"Final Cost for All Samples in the Dataset: {final_cost}\\n\")\n",
        "\n"
      ],
      "metadata": {
        "id": "q8GdueAabR_D"
      },
      "execution_count": 16,
      "outputs": []
    },
    {
      "cell_type": "markdown",
      "source": [
        "\n",
        "\n",
        "```\n",
        "CALLING MAIN FUNCTION\n",
        "```\n",
        "\n"
      ],
      "metadata": {
        "id": "MSgUAZDhc6WY"
      }
    },
    {
      "cell_type": "markdown",
      "source": [
        "**DataSet 1 Results**"
      ],
      "metadata": {
        "id": "WLUdd3BiubYr"
      }
    },
    {
      "cell_type": "code",
      "source": [
        "if __name__ == '__main__':\n",
        "    main()"
      ],
      "metadata": {
        "colab": {
          "base_uri": "https://localhost:8080/"
        },
        "id": "Ep5kCTjybYmC",
        "outputId": "bf4e6165-86f9-4194-a61e-cc3a56e871e1"
      },
      "execution_count": 18,
      "outputs": [
        {
          "output_type": "stream",
          "name": "stdout",
          "text": [
            "Dataset to use? [1] for MNIST and [2] for Iris Flower Aand [3] for Marketing Campaign > 1\n",
            "Drive already mounted at /content/drive; to attempt to forcibly remount, call drive.mount(\"/content/drive\", force_remount=True).\n",
            "\n",
            "Dimensions of Weights Vector for Level A: (16, 400)\n",
            "Dimensions of Weights Vector for Level B: (10, 16)\n",
            "Dimensions of Biases Vector for Level A: (16, 1)\n",
            "Dimensions of Biases Vector for Level B: (10, 1)\n",
            "\n",
            "Final Cost for All Samples in the Dataset: [13.2826]\n",
            "\n"
          ]
        }
      ]
    },
    {
      "cell_type": "markdown",
      "source": [
        "**DataSet 2 Results**"
      ],
      "metadata": {
        "id": "eG3l6JtKue5E"
      }
    },
    {
      "cell_type": "code",
      "source": [
        "if __name__ == '__main__':\n",
        "    main()"
      ],
      "metadata": {
        "id": "B0Wkn7Z5c-3R",
        "colab": {
          "base_uri": "https://localhost:8080/"
        },
        "outputId": "846bb65e-78ec-4d14-d09b-b002a1a07c1e"
      },
      "execution_count": 20,
      "outputs": [
        {
          "output_type": "stream",
          "name": "stdout",
          "text": [
            "Dataset to use? [1] for MNIST and [2] for Iris Flower Aand [3] for Marketing Campaign > 2\n",
            "Drive already mounted at /content/drive; to attempt to forcibly remount, call drive.mount(\"/content/drive\", force_remount=True).\n",
            "\n",
            "Dimensions of Weights Vector for Level A: (16, 4)\n",
            "Dimensions of Weights Vector for Level B: (3, 16)\n",
            "Dimensions of Biases Vector for Level A: (16, 1)\n",
            "Dimensions of Biases Vector for Level B: (3, 1)\n",
            "\n",
            "Final Cost for All Samples in the Dataset: [1.66666667]\n",
            "\n"
          ]
        }
      ]
    },
    {
      "cell_type": "markdown",
      "source": [
        "**DataSet 3 Results**"
      ],
      "metadata": {
        "id": "xMQpn8w9ulnl"
      }
    },
    {
      "cell_type": "code",
      "source": [
        "if __name__ == '__main__':\n",
        "    main()"
      ],
      "metadata": {
        "colab": {
          "base_uri": "https://localhost:8080/"
        },
        "id": "UMZH4aIduOho",
        "outputId": "099ca846-1ae9-4eeb-df53-8aff168f99be"
      },
      "execution_count": 21,
      "outputs": [
        {
          "output_type": "stream",
          "name": "stdout",
          "text": [
            "Dataset to use? [1] for MNIST and [2] for Iris Flower Aand [3] for Marketing Campaign > 3\n",
            "Drive already mounted at /content/drive; to attempt to forcibly remount, call drive.mount(\"/content/drive\", force_remount=True).\n",
            "\n",
            "Dimensions of Weights Vector for Level A: (16, 4)\n",
            "Dimensions of Weights Vector for Level B: (2, 16)\n",
            "Dimensions of Biases Vector for Level A: (16, 1)\n",
            "Dimensions of Biases Vector for Level B: (2, 1)\n",
            "\n",
            "Final Cost for All Samples in the Dataset: [0.66666667]\n",
            "\n"
          ]
        }
      ]
    }
  ]
}